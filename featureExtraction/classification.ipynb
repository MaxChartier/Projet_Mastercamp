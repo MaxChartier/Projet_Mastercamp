{
 "cells": [
  {
   "cell_type": "markdown",
   "id": "7ab6e37d",
   "metadata": {},
   "source": [
    "# Image Classification Using Feature Extraction and YOLO Model"
   ]
  },
  {
   "cell_type": "code",
   "execution_count": null,
   "id": "0c118d01",
   "metadata": {},
   "outputs": [],
   "source": [
    "# Import analysis functions and YOLO\n",
    "import pathlib\n",
    "import numpy as np\n",
    "from analysis import (\n",
    "    standardize_image, get_avg_color, get_contrast_level, detect_edges\n",
    ")\n",
    "from ultralytics import YOLO\n",
    "import os"
   ]
  },
  {
   "cell_type": "code",
   "execution_count": null,
   "id": "2c39982e",
   "metadata": {},
   "outputs": [],
   "source": [
    "# Load YOLO model for comparison with feature-based classification\n",
    "model_path = pathlib.Path(__file__).parent.parent / 'machinelearning' / 'yolo11clsFineTuned.pt'\n",
    "try:\n",
    "    yolo_model = YOLO(str(model_path))\n",
    "    print(\"YOLO model loaded successfully\")\n",
    "except Exception as e:\n",
    "    print(f\"Could not load YOLO model: {e}\")\n",
    "    yolo_model = None"
   ]
  },
  {
   "cell_type": "code",
   "execution_count": null,
   "id": "d2f85870",
   "metadata": {},
   "outputs": [],
   "source": [
    "# Load image paths from dataset directory\n",
    "dataset_dir = pathlib.Path(__file__).parent.parent / 'dataSet' / 'Data'\n",
    "image_paths = [p for p in dataset_dir.glob('**/*') if p.suffix.lower() in ['.jpg', '.jpeg', '.png', '.bmp']]\n",
    "print(f\"Found {len(image_paths)} images.\")"
   ]
  },
  {
   "cell_type": "code",
   "execution_count": null,
   "id": "24b9d1b8",
   "metadata": {},
   "outputs": [],
   "source": [
    "# Extract features for each image and get YOLO predictions\n",
    "features = []\n",
    "for path in image_paths:\n",
    "    img = standardize_image(path)\n",
    "    avg_color = get_avg_color(img)\n",
    "    contrast = get_contrast_level(img)\n",
    "    edge_info = detect_edges(img, method='canny')\n",
    "    \n",
    "    # YOLO prediction\n",
    "    yolo_prediction = 'unknown'\n",
    "    yolo_confidence = 0.0\n",
    "    if yolo_model:\n",
    "        try:\n",
    "            results = yolo_model.predict(str(path), verbose=False)\n",
    "            if results and len(results) > 0 and hasattr(results[0], 'probs'):\n",
    "                class_id = results[0].probs.top1\n",
    "                confidence = float(results[0].probs.top1conf)\n",
    "                class_names = results[0].names if hasattr(results[0], 'names') else {0: 'clean', 1: 'dirty'}\n",
    "                yolo_prediction = class_names.get(class_id, 'unknown')\n",
    "                yolo_confidence = confidence\n",
    "        except Exception as e:\n",
    "            print(f\"YOLO prediction failed for {path}: {e}\")\n",
    "    \n",
    "    features.append({\n",
    "        'path': str(path),\n",
    "        'avg_color': avg_color,\n",
    "        'contrast': contrast,\n",
    "        'edge_density': edge_info['statistics']['edge_density'],\n",
    "        'yolo_prediction': yolo_prediction,\n",
    "        'yolo_confidence': yolo_confidence\n",
    "    })\n",
    "print(f\"Extracted features for {len(features)} images.\")"
   ]
  },
  {
   "cell_type": "markdown",
   "id": "9acdab45",
   "metadata": {},
   "source": [
    "## Define Classification Thresholds\n",
    "We will use simple thresholds on average brightness, contrast, and edge density to classify images into two classes:"
   ]
  },
  {
   "cell_type": "code",
   "execution_count": null,
   "id": "eedff499",
   "metadata": {},
   "outputs": [],
   "source": [
    "# Example thresholds (tune as needed for your dataset)\n",
    "BRIGHTNESS_THRESHOLD = 100\n",
    "CONTRAST_THRESHOLD = 50\n",
    "EDGE_DENSITY_THRESHOLD = 0.05"
   ]
  },
  {
   "cell_type": "code",
   "execution_count": null,
   "id": "22a502ff",
   "metadata": {},
   "outputs": [],
   "source": [
    "# Classify images based on thresholds\n",
    "results = []\n",
    "for feat in features:\n",
    "    brightness = feat['avg_color'].get('brightness', feat['avg_color'].get('average_gray', 0))\n",
    "    contrast = feat['contrast'].get('global_contrast', feat['contrast']).get('contrast_level', 0)\n",
    "    edge_density = feat['edge_density']\n",
    "    \n",
    "    # Example rule-based classification\n",
    "    if brightness > BRIGHTNESS_THRESHOLD and contrast > CONTRAST_THRESHOLD and edge_density > EDGE_DENSITY_THRESHOLD:\n",
    "        label = 'Class A'\n",
    "    else:\n",
    "        label = 'Class B'\n",
    "    \n",
    "    results.append({\n",
    "        'path': feat['path'],\n",
    "        'brightness': brightness,\n",
    "        'contrast': contrast,\n",
    "        'edge_density': edge_density,\n",
    "        'label': label\n",
    "    })\n",
    "print(f\"Classified {len(results)} images.\")"
   ]
  },
  {
   "cell_type": "code",
   "execution_count": null,
   "id": "55c24817",
   "metadata": {},
   "outputs": [],
   "source": [
    "# Display classification results\n",
    "import pandas as pd\n",
    "df = pd.DataFrame(results)\n",
    "display(df.head())"
   ]
  },
  {
   "cell_type": "code",
   "execution_count": null,
   "id": "5a0b2fbe",
   "metadata": {},
   "outputs": [],
   "source": [
    "# Compare YOLO predictions with rule-based classification\n",
    "comparison_results = []\n",
    "for feat, result in zip(features, results):\n",
    "    comparison_results.append({\n",
    "        'path': feat['path'],\n",
    "        'rule_based_label': result['label'],\n",
    "        'yolo_prediction': feat['yolo_prediction'],\n",
    "        'yolo_confidence': feat['yolo_confidence'],\n",
    "        'brightness': result['brightness'],\n",
    "        'contrast': result['contrast'],\n",
    "        'edge_density': result['edge_density']\n",
    "    })\n",
    "\n",
    "# Display comparison\n",
    "import pandas as pd\n",
    "comparison_df = pd.DataFrame(comparison_results)\n",
    "display(comparison_df.head(10))"
   ]
  }
 ],
 "metadata": {
  "language_info": {
   "name": "python"
  }
 },
 "nbformat": 4,
 "nbformat_minor": 5
}
